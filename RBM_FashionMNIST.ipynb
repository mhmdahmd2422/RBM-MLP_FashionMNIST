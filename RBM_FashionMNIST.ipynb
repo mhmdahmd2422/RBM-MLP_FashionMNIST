{
  "nbformat": 4,
  "nbformat_minor": 0,
  "metadata": {
    "colab": {
      "provenance": [],
      "authorship_tag": "ABX9TyP7DMleTMKSuE7SfkYkPKEP",
      "include_colab_link": true
    },
    "kernelspec": {
      "name": "python3",
      "display_name": "Python 3"
    },
    "language_info": {
      "name": "python"
    }
  },
  "cells": [
    {
      "cell_type": "markdown",
      "metadata": {
        "id": "view-in-github",
        "colab_type": "text"
      },
      "source": [
        "<a href=\"https://colab.research.google.com/github/mhmdahmd2422/RBM-MLP_FashionMNIST/blob/main/RBM_FashionMNIST.ipynb\" target=\"_parent\"><img src=\"https://colab.research.google.com/assets/colab-badge.svg\" alt=\"Open In Colab\"/></a>"
      ]
    },
    {
      "cell_type": "markdown",
      "source": [
        "# **IMPORTS.**"
      ],
      "metadata": {
        "id": "CPVut0yPSHAp"
      }
    },
    {
      "cell_type": "code",
      "execution_count": 10,
      "metadata": {
        "id": "4toWrQYAFQrF"
      },
      "outputs": [],
      "source": [
        "import numpy as np\n",
        "from sklearn.neural_network import BernoulliRBM\n",
        "from sklearn.pipeline import Pipeline\n",
        "from sklearn.preprocessing import MinMaxScaler\n",
        "from sklearn.metrics import accuracy_score\n",
        "from sklearn.datasets import fetch_openml\n",
        "from sklearn.model_selection import train_test_split\n",
        "from sklearn.neural_network import MLPClassifier\n",
        "import pandas as pd\n",
        "from sklearn.metrics import log_loss"
      ]
    },
    {
      "cell_type": "markdown",
      "source": [
        "# **Load the Fashion MNIST dataset and preprocess the data by scaling it between 0 and 1. Then, we split the data into training and testing sets.**"
      ],
      "metadata": {
        "id": "T8lVN37lORYI"
      }
    },
    {
      "cell_type": "code",
      "source": [
        "# load el dataset\n",
        "mnist = fetch_openml('Fashion-MNIST', version=1, cache=True)\n",
        "# Preprocess el dataset\n",
        "X = mnist.data\n",
        "y = mnist.target\n",
        "# range men 1 le 0\n",
        "X = MinMaxScaler().fit_transform(X)\n",
        "# train test split\n",
        "X_train, X_test, y_train, y_test = train_test_split(X, y, test_size=0.2, random_state=42)"
      ],
      "metadata": {
        "colab": {
          "base_uri": "https://localhost:8080/"
        },
        "id": "b5X4pzWTFRk4",
        "outputId": "d9ab31bc-40b4-45b6-ce43-6e07fa1a6ce9"
      },
      "execution_count": 2,
      "outputs": [
        {
          "output_type": "stream",
          "name": "stderr",
          "text": [
            "/usr/local/lib/python3.10/dist-packages/sklearn/datasets/_openml.py:968: FutureWarning: The default value of `parser` will change from `'liac-arff'` to `'auto'` in 1.4. You can set `parser='auto'` to silence this warning. Therefore, an `ImportError` will be raised from 1.4 if the dataset is dense and pandas is not installed. Note that the pandas parser may return different data types. See the Notes Section in fetch_openml's API doc for details.\n",
            "  warn(\n"
          ]
        }
      ]
    },
    {
      "cell_type": "markdown",
      "source": [
        "# **Build an RBM model using BernoulliRBM from scikit-learn. Set the number of components (hidden units) to 128, the learning rate to 0.01, and the number of iterations to 20. The RBM model is then combined with an MLP classifier using the Pipeline class.**"
      ],
      "metadata": {
        "id": "bmxV2jYmOd_n"
      }
    },
    {
      "cell_type": "code",
      "source": [
        "# rbm model\n",
        "rbm = BernoulliRBM(n_components=128, learning_rate=0.01, n_iter=20, random_state=42, verbose=True)\n",
        "# el masoora\n",
        "rbm_mlp = Pipeline(steps=[('rbm', rbm), ('mlp', MLPClassifier(hidden_layer_sizes=(256,), max_iter=100, random_state=42))])\n",
        "# start feeding pipe\n",
        "rbm_mlp.fit(X_train, y_train)"
      ],
      "metadata": {
        "colab": {
          "base_uri": "https://localhost:8080/",
          "height": 589
        },
        "id": "KEWhyKU0Fedo",
        "outputId": "35957811-8ddf-4ebb-eed3-f61d0dfecb58"
      },
      "execution_count": 3,
      "outputs": [
        {
          "output_type": "stream",
          "name": "stdout",
          "text": [
            "[BernoulliRBM] Iteration 1, pseudo-likelihood = -249.42, time = 18.43s\n",
            "[BernoulliRBM] Iteration 2, pseudo-likelihood = -231.24, time = 23.01s\n",
            "[BernoulliRBM] Iteration 3, pseudo-likelihood = -219.82, time = 21.25s\n",
            "[BernoulliRBM] Iteration 4, pseudo-likelihood = -210.70, time = 25.36s\n",
            "[BernoulliRBM] Iteration 5, pseudo-likelihood = -210.25, time = 20.13s\n",
            "[BernoulliRBM] Iteration 6, pseudo-likelihood = -205.55, time = 21.54s\n",
            "[BernoulliRBM] Iteration 7, pseudo-likelihood = -204.30, time = 19.67s\n",
            "[BernoulliRBM] Iteration 8, pseudo-likelihood = -203.01, time = 21.97s\n",
            "[BernoulliRBM] Iteration 9, pseudo-likelihood = -203.34, time = 19.89s\n",
            "[BernoulliRBM] Iteration 10, pseudo-likelihood = -202.28, time = 23.08s\n",
            "[BernoulliRBM] Iteration 11, pseudo-likelihood = -200.22, time = 21.39s\n",
            "[BernoulliRBM] Iteration 12, pseudo-likelihood = -200.56, time = 19.80s\n",
            "[BernoulliRBM] Iteration 13, pseudo-likelihood = -200.71, time = 21.29s\n",
            "[BernoulliRBM] Iteration 14, pseudo-likelihood = -201.06, time = 20.02s\n",
            "[BernoulliRBM] Iteration 15, pseudo-likelihood = -198.40, time = 21.09s\n",
            "[BernoulliRBM] Iteration 16, pseudo-likelihood = -196.88, time = 21.42s\n",
            "[BernoulliRBM] Iteration 17, pseudo-likelihood = -195.15, time = 19.52s\n",
            "[BernoulliRBM] Iteration 18, pseudo-likelihood = -199.05, time = 21.66s\n",
            "[BernoulliRBM] Iteration 19, pseudo-likelihood = -198.62, time = 22.88s\n",
            "[BernoulliRBM] Iteration 20, pseudo-likelihood = -197.26, time = 19.95s\n"
          ]
        },
        {
          "output_type": "stream",
          "name": "stderr",
          "text": [
            "/usr/local/lib/python3.10/dist-packages/sklearn/neural_network/_multilayer_perceptron.py:686: ConvergenceWarning: Stochastic Optimizer: Maximum iterations (100) reached and the optimization hasn't converged yet.\n",
            "  warnings.warn(\n"
          ]
        },
        {
          "output_type": "execute_result",
          "data": {
            "text/plain": [
              "Pipeline(steps=[('rbm',\n",
              "                 BernoulliRBM(learning_rate=0.01, n_components=128, n_iter=20,\n",
              "                              random_state=42, verbose=True)),\n",
              "                ('mlp',\n",
              "                 MLPClassifier(hidden_layer_sizes=(256,), max_iter=100,\n",
              "                               random_state=42))])"
            ],
            "text/html": [
              "<style>#sk-container-id-1 {color: black;background-color: white;}#sk-container-id-1 pre{padding: 0;}#sk-container-id-1 div.sk-toggleable {background-color: white;}#sk-container-id-1 label.sk-toggleable__label {cursor: pointer;display: block;width: 100%;margin-bottom: 0;padding: 0.3em;box-sizing: border-box;text-align: center;}#sk-container-id-1 label.sk-toggleable__label-arrow:before {content: \"▸\";float: left;margin-right: 0.25em;color: #696969;}#sk-container-id-1 label.sk-toggleable__label-arrow:hover:before {color: black;}#sk-container-id-1 div.sk-estimator:hover label.sk-toggleable__label-arrow:before {color: black;}#sk-container-id-1 div.sk-toggleable__content {max-height: 0;max-width: 0;overflow: hidden;text-align: left;background-color: #f0f8ff;}#sk-container-id-1 div.sk-toggleable__content pre {margin: 0.2em;color: black;border-radius: 0.25em;background-color: #f0f8ff;}#sk-container-id-1 input.sk-toggleable__control:checked~div.sk-toggleable__content {max-height: 200px;max-width: 100%;overflow: auto;}#sk-container-id-1 input.sk-toggleable__control:checked~label.sk-toggleable__label-arrow:before {content: \"▾\";}#sk-container-id-1 div.sk-estimator input.sk-toggleable__control:checked~label.sk-toggleable__label {background-color: #d4ebff;}#sk-container-id-1 div.sk-label input.sk-toggleable__control:checked~label.sk-toggleable__label {background-color: #d4ebff;}#sk-container-id-1 input.sk-hidden--visually {border: 0;clip: rect(1px 1px 1px 1px);clip: rect(1px, 1px, 1px, 1px);height: 1px;margin: -1px;overflow: hidden;padding: 0;position: absolute;width: 1px;}#sk-container-id-1 div.sk-estimator {font-family: monospace;background-color: #f0f8ff;border: 1px dotted black;border-radius: 0.25em;box-sizing: border-box;margin-bottom: 0.5em;}#sk-container-id-1 div.sk-estimator:hover {background-color: #d4ebff;}#sk-container-id-1 div.sk-parallel-item::after {content: \"\";width: 100%;border-bottom: 1px solid gray;flex-grow: 1;}#sk-container-id-1 div.sk-label:hover label.sk-toggleable__label {background-color: #d4ebff;}#sk-container-id-1 div.sk-serial::before {content: \"\";position: absolute;border-left: 1px solid gray;box-sizing: border-box;top: 0;bottom: 0;left: 50%;z-index: 0;}#sk-container-id-1 div.sk-serial {display: flex;flex-direction: column;align-items: center;background-color: white;padding-right: 0.2em;padding-left: 0.2em;position: relative;}#sk-container-id-1 div.sk-item {position: relative;z-index: 1;}#sk-container-id-1 div.sk-parallel {display: flex;align-items: stretch;justify-content: center;background-color: white;position: relative;}#sk-container-id-1 div.sk-item::before, #sk-container-id-1 div.sk-parallel-item::before {content: \"\";position: absolute;border-left: 1px solid gray;box-sizing: border-box;top: 0;bottom: 0;left: 50%;z-index: -1;}#sk-container-id-1 div.sk-parallel-item {display: flex;flex-direction: column;z-index: 1;position: relative;background-color: white;}#sk-container-id-1 div.sk-parallel-item:first-child::after {align-self: flex-end;width: 50%;}#sk-container-id-1 div.sk-parallel-item:last-child::after {align-self: flex-start;width: 50%;}#sk-container-id-1 div.sk-parallel-item:only-child::after {width: 0;}#sk-container-id-1 div.sk-dashed-wrapped {border: 1px dashed gray;margin: 0 0.4em 0.5em 0.4em;box-sizing: border-box;padding-bottom: 0.4em;background-color: white;}#sk-container-id-1 div.sk-label label {font-family: monospace;font-weight: bold;display: inline-block;line-height: 1.2em;}#sk-container-id-1 div.sk-label-container {text-align: center;}#sk-container-id-1 div.sk-container {/* jupyter's `normalize.less` sets `[hidden] { display: none; }` but bootstrap.min.css set `[hidden] { display: none !important; }` so we also need the `!important` here to be able to override the default hidden behavior on the sphinx rendered scikit-learn.org. See: https://github.com/scikit-learn/scikit-learn/issues/21755 */display: inline-block !important;position: relative;}#sk-container-id-1 div.sk-text-repr-fallback {display: none;}</style><div id=\"sk-container-id-1\" class=\"sk-top-container\"><div class=\"sk-text-repr-fallback\"><pre>Pipeline(steps=[(&#x27;rbm&#x27;,\n",
              "                 BernoulliRBM(learning_rate=0.01, n_components=128, n_iter=20,\n",
              "                              random_state=42, verbose=True)),\n",
              "                (&#x27;mlp&#x27;,\n",
              "                 MLPClassifier(hidden_layer_sizes=(256,), max_iter=100,\n",
              "                               random_state=42))])</pre><b>In a Jupyter environment, please rerun this cell to show the HTML representation or trust the notebook. <br />On GitHub, the HTML representation is unable to render, please try loading this page with nbviewer.org.</b></div><div class=\"sk-container\" hidden><div class=\"sk-item sk-dashed-wrapped\"><div class=\"sk-label-container\"><div class=\"sk-label sk-toggleable\"><input class=\"sk-toggleable__control sk-hidden--visually\" id=\"sk-estimator-id-1\" type=\"checkbox\" ><label for=\"sk-estimator-id-1\" class=\"sk-toggleable__label sk-toggleable__label-arrow\">Pipeline</label><div class=\"sk-toggleable__content\"><pre>Pipeline(steps=[(&#x27;rbm&#x27;,\n",
              "                 BernoulliRBM(learning_rate=0.01, n_components=128, n_iter=20,\n",
              "                              random_state=42, verbose=True)),\n",
              "                (&#x27;mlp&#x27;,\n",
              "                 MLPClassifier(hidden_layer_sizes=(256,), max_iter=100,\n",
              "                               random_state=42))])</pre></div></div></div><div class=\"sk-serial\"><div class=\"sk-item\"><div class=\"sk-estimator sk-toggleable\"><input class=\"sk-toggleable__control sk-hidden--visually\" id=\"sk-estimator-id-2\" type=\"checkbox\" ><label for=\"sk-estimator-id-2\" class=\"sk-toggleable__label sk-toggleable__label-arrow\">BernoulliRBM</label><div class=\"sk-toggleable__content\"><pre>BernoulliRBM(learning_rate=0.01, n_components=128, n_iter=20, random_state=42,\n",
              "             verbose=True)</pre></div></div></div><div class=\"sk-item\"><div class=\"sk-estimator sk-toggleable\"><input class=\"sk-toggleable__control sk-hidden--visually\" id=\"sk-estimator-id-3\" type=\"checkbox\" ><label for=\"sk-estimator-id-3\" class=\"sk-toggleable__label sk-toggleable__label-arrow\">MLPClassifier</label><div class=\"sk-toggleable__content\"><pre>MLPClassifier(hidden_layer_sizes=(256,), max_iter=100, random_state=42)</pre></div></div></div></div></div></div></div>"
            ]
          },
          "metadata": {},
          "execution_count": 3
        }
      ]
    },
    {
      "cell_type": "markdown",
      "source": [
        "# **Use the predict method of the rbm_mlp pipeline to make predictions on the testing set (X_test). Then, we calculate the accuracy by comparing the predicted labels with the true labels (y_test).**"
      ],
      "metadata": {
        "id": "YP3sHI9IRNxz"
      }
    },
    {
      "cell_type": "code",
      "source": [
        "# evaluation 3al test set\n",
        "rbm_mlp_pred = rbm_mlp.predict(X_test)\n",
        "rbm_mlp_accuracy = accuracy_score(y_test, rbm_mlp_pred)\n",
        "print(\"RBM-MLP Accuracy:\", rbm_mlp_accuracy)"
      ],
      "metadata": {
        "colab": {
          "base_uri": "https://localhost:8080/"
        },
        "id": "qkGniHgrFhH5",
        "outputId": "1900462c-cfd1-4e9d-ead6-e24776a6aa39"
      },
      "execution_count": 4,
      "outputs": [
        {
          "output_type": "stream",
          "name": "stdout",
          "text": [
            "RBM-MLP Accuracy: 0.8656428571428572\n"
          ]
        }
      ]
    },
    {
      "cell_type": "markdown",
      "source": [
        "# **MLPClassifier model with a hidden layer of size 256 and set the maximum number of iterations to 100. By calling the fit method on the mlp model and providing the training data (X_train and y_train), the MLP model will be trained**"
      ],
      "metadata": {
        "id": "m9lSWOsuRezI"
      }
    },
    {
      "cell_type": "code",
      "source": [
        "# mlp model\n",
        "mlp = MLPClassifier(hidden_layer_sizes=(256,), max_iter=100, random_state=42)\n",
        "# start train\n",
        "mlp.fit(X_train, y_train)"
      ],
      "metadata": {
        "colab": {
          "base_uri": "https://localhost:8080/",
          "height": 129
        },
        "id": "eCj3EPO8Fi1h",
        "outputId": "6516bcfb-8a41-46ad-d288-1c501075ec68"
      },
      "execution_count": 5,
      "outputs": [
        {
          "output_type": "stream",
          "name": "stderr",
          "text": [
            "/usr/local/lib/python3.10/dist-packages/sklearn/neural_network/_multilayer_perceptron.py:686: ConvergenceWarning: Stochastic Optimizer: Maximum iterations (100) reached and the optimization hasn't converged yet.\n",
            "  warnings.warn(\n"
          ]
        },
        {
          "output_type": "execute_result",
          "data": {
            "text/plain": [
              "MLPClassifier(hidden_layer_sizes=(256,), max_iter=100, random_state=42)"
            ],
            "text/html": [
              "<style>#sk-container-id-2 {color: black;background-color: white;}#sk-container-id-2 pre{padding: 0;}#sk-container-id-2 div.sk-toggleable {background-color: white;}#sk-container-id-2 label.sk-toggleable__label {cursor: pointer;display: block;width: 100%;margin-bottom: 0;padding: 0.3em;box-sizing: border-box;text-align: center;}#sk-container-id-2 label.sk-toggleable__label-arrow:before {content: \"▸\";float: left;margin-right: 0.25em;color: #696969;}#sk-container-id-2 label.sk-toggleable__label-arrow:hover:before {color: black;}#sk-container-id-2 div.sk-estimator:hover label.sk-toggleable__label-arrow:before {color: black;}#sk-container-id-2 div.sk-toggleable__content {max-height: 0;max-width: 0;overflow: hidden;text-align: left;background-color: #f0f8ff;}#sk-container-id-2 div.sk-toggleable__content pre {margin: 0.2em;color: black;border-radius: 0.25em;background-color: #f0f8ff;}#sk-container-id-2 input.sk-toggleable__control:checked~div.sk-toggleable__content {max-height: 200px;max-width: 100%;overflow: auto;}#sk-container-id-2 input.sk-toggleable__control:checked~label.sk-toggleable__label-arrow:before {content: \"▾\";}#sk-container-id-2 div.sk-estimator input.sk-toggleable__control:checked~label.sk-toggleable__label {background-color: #d4ebff;}#sk-container-id-2 div.sk-label input.sk-toggleable__control:checked~label.sk-toggleable__label {background-color: #d4ebff;}#sk-container-id-2 input.sk-hidden--visually {border: 0;clip: rect(1px 1px 1px 1px);clip: rect(1px, 1px, 1px, 1px);height: 1px;margin: -1px;overflow: hidden;padding: 0;position: absolute;width: 1px;}#sk-container-id-2 div.sk-estimator {font-family: monospace;background-color: #f0f8ff;border: 1px dotted black;border-radius: 0.25em;box-sizing: border-box;margin-bottom: 0.5em;}#sk-container-id-2 div.sk-estimator:hover {background-color: #d4ebff;}#sk-container-id-2 div.sk-parallel-item::after {content: \"\";width: 100%;border-bottom: 1px solid gray;flex-grow: 1;}#sk-container-id-2 div.sk-label:hover label.sk-toggleable__label {background-color: #d4ebff;}#sk-container-id-2 div.sk-serial::before {content: \"\";position: absolute;border-left: 1px solid gray;box-sizing: border-box;top: 0;bottom: 0;left: 50%;z-index: 0;}#sk-container-id-2 div.sk-serial {display: flex;flex-direction: column;align-items: center;background-color: white;padding-right: 0.2em;padding-left: 0.2em;position: relative;}#sk-container-id-2 div.sk-item {position: relative;z-index: 1;}#sk-container-id-2 div.sk-parallel {display: flex;align-items: stretch;justify-content: center;background-color: white;position: relative;}#sk-container-id-2 div.sk-item::before, #sk-container-id-2 div.sk-parallel-item::before {content: \"\";position: absolute;border-left: 1px solid gray;box-sizing: border-box;top: 0;bottom: 0;left: 50%;z-index: -1;}#sk-container-id-2 div.sk-parallel-item {display: flex;flex-direction: column;z-index: 1;position: relative;background-color: white;}#sk-container-id-2 div.sk-parallel-item:first-child::after {align-self: flex-end;width: 50%;}#sk-container-id-2 div.sk-parallel-item:last-child::after {align-self: flex-start;width: 50%;}#sk-container-id-2 div.sk-parallel-item:only-child::after {width: 0;}#sk-container-id-2 div.sk-dashed-wrapped {border: 1px dashed gray;margin: 0 0.4em 0.5em 0.4em;box-sizing: border-box;padding-bottom: 0.4em;background-color: white;}#sk-container-id-2 div.sk-label label {font-family: monospace;font-weight: bold;display: inline-block;line-height: 1.2em;}#sk-container-id-2 div.sk-label-container {text-align: center;}#sk-container-id-2 div.sk-container {/* jupyter's `normalize.less` sets `[hidden] { display: none; }` but bootstrap.min.css set `[hidden] { display: none !important; }` so we also need the `!important` here to be able to override the default hidden behavior on the sphinx rendered scikit-learn.org. See: https://github.com/scikit-learn/scikit-learn/issues/21755 */display: inline-block !important;position: relative;}#sk-container-id-2 div.sk-text-repr-fallback {display: none;}</style><div id=\"sk-container-id-2\" class=\"sk-top-container\"><div class=\"sk-text-repr-fallback\"><pre>MLPClassifier(hidden_layer_sizes=(256,), max_iter=100, random_state=42)</pre><b>In a Jupyter environment, please rerun this cell to show the HTML representation or trust the notebook. <br />On GitHub, the HTML representation is unable to render, please try loading this page with nbviewer.org.</b></div><div class=\"sk-container\" hidden><div class=\"sk-item\"><div class=\"sk-estimator sk-toggleable\"><input class=\"sk-toggleable__control sk-hidden--visually\" id=\"sk-estimator-id-4\" type=\"checkbox\" checked><label for=\"sk-estimator-id-4\" class=\"sk-toggleable__label sk-toggleable__label-arrow\">MLPClassifier</label><div class=\"sk-toggleable__content\"><pre>MLPClassifier(hidden_layer_sizes=(256,), max_iter=100, random_state=42)</pre></div></div></div></div></div>"
            ]
          },
          "metadata": {},
          "execution_count": 5
        }
      ]
    },
    {
      "cell_type": "markdown",
      "source": [
        "# **Use the predict method of the MLP model (mlp) to make predictions on the testing set (X_test). calculate the log loss using the log_loss function by providing the true labels (y_test) and the predicted probabilities from the model. calculate the accuracy by comparing the predicted labels with the true labels using the accuracy_score function.**"
      ],
      "metadata": {
        "id": "X8b3RteER6Qo"
      }
    },
    {
      "cell_type": "code",
      "source": [
        "mlp_raw_pred = mlp.predict(X_test)\n",
        "mlp_raw_loss = log_loss(y_test, mlp.predict_proba(X_test))\n",
        "mlp_raw_accuracy = accuracy_score(y_test, mlp_raw_pred)\n",
        "\n",
        "# Display the results in the table\n",
        "results = results.append({\n",
        "    'Model': 'MLP with Raw Images',\n",
        "    'Loss': mlp_raw_loss,\n",
        "    'Accuracy': mlp_raw_accuracy\n",
        "}, ignore_index=True)\n",
        "\n",
        "print(results)"
      ],
      "metadata": {
        "colab": {
          "base_uri": "https://localhost:8080/"
        },
        "id": "9bpZZ9_QK2nw",
        "outputId": "5e684575-5b5c-47f3-8656-1163c4738577"
      },
      "execution_count": 12,
      "outputs": [
        {
          "output_type": "stream",
          "name": "stdout",
          "text": [
            "                 Model      Loss  Accuracy\n",
            "0              RBM-MLP  0.399021  0.865643\n",
            "1      MLP without RBM  0.550479  0.900286\n",
            "2  MLP with Raw Images  0.550479  0.900286\n"
          ]
        },
        {
          "output_type": "stream",
          "name": "stderr",
          "text": [
            "<ipython-input-12-c33ef34a94fb>:6: FutureWarning: The frame.append method is deprecated and will be removed from pandas in a future version. Use pandas.concat instead.\n",
            "  results = results.append({\n"
          ]
        }
      ]
    }
  ]
}